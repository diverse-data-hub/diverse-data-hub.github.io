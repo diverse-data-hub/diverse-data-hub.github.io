





import pandas as pd
import re
import numpy as np


data = pd.read_csv("../womens-march-madness.csv")
data.head()





column_names = {
    'Year' : 'year',
    'School' : 'school',
    'Seed' : 'seed',
    'Conference' : 'conference',
    'Conf. W' : 'conf_wins',
    'Conf. L' : 'conf_losses',
    'Conf. %' : 'conf_wins_pct',
    'Conf. place' : 'conf_place',
    'Reg. W' : 'reg_wins',
    'Reg. L' : 'reg_losses',
    'Reg. %' : 'reg_wins_pct',
    'How qual' : 'bid',
    '1st game at home?' : 'first_game_at_home',
    'Tourney W' : 'tourney_wins',
    'Tourney L' : 'tourney_losses',
    'Tourney finish' : 'tourney_finish',
    'Full W' : 'total_wins',
    'Full L' : 'total_losses',
    'Full %' : 'total_wins_pct'
}
data = data.rename(columns = column_names)
data.head()





data['conf_place'].unique()








def extract_conf_rank(conf_place):
    if pd.isna(conf_place) or conf_place == '-':
        return np.nan
    # Match patterns like '1st', 'T2nd', '3rd-W', 'T1st-N', etc.
    match = re.search(r'(\d+)(st|nd|rd|th)', conf_place)
    if match:
        return int(match.group(1))
    return np.nan

def extract_division(conf_place):
    if pd.isna(conf_place) or conf_place == '-':
        return np.nan
    # Look for division info after rank (like 'W', 'E', '6', etc.)
    match = re.search(r'(?:\d+(?:st|nd|rd|th)[\s-]?)([A-Za-z0-9]+)?', conf_place)
    if match:
        return match.group(1)
    return np.nan


data['conf_rank'] = data['conf_place'].apply(extract_conf_rank)
data['division'] = data['conf_place'].apply(extract_division)
data.head()





data['tourney_finish'].unique()


finish_map = {
    'OR': 'opening_round_loss',
    '1st': 'first_round_loss',
    '2nd': 'second_round_loss',
    'RSF': 'top_16_loss',
    'RF': 'top_8_loss',
    'NSF': 'top_4_loss',
    'N2nd': 'top_2_loss',
    'Champ': 'champ'
}

data['tourney_finish'] = data['tourney_finish'].replace(finish_map)

data.head()





finish_order = [
    'opening_round_loss',
    'first_round_loss',
    'second_round_loss',
    'top_16_loss',
    'top_8_loss',
    'top_4_loss',
    'top_2_loss',
    'champ'
]

data['tourney_finish'] = pd.Categorical(
    data['tourney_finish'], 
    categories=finish_order, 
    ordered=True
)

data.head()





data.loc[data['seed'] == '(OR)', 'seed'] = '0'





data.replace("-", np.nan, inplace=True)

data['seed'] = data['seed'].astype('int')
data['conf_wins'] = data['conf_wins'].astype('float')
data['conf_losses'] = data['conf_losses'].astype('float')
data['conf_wins_pct'] = data['conf_wins_pct'].astype('float')
data['total_wins_pct'] = data['total_wins_pct'].str.replace('\\', '')
data['first_game_at_home'] = data['first_game_at_home'].str.replace('^', '')
data['total_wins_pct'] = data['total_wins_pct'].astype('float')

data.head()





data.replace(to_replace=[pd.NA, "nan", "NaN", "None", None], value=np.nan, inplace=True)





for column in data.columns:
    print(f"Column: {column}")
    print(f"Data type: {data[column].dtype}")
    print(f"Unique values: {data[column].unique()}\n")





data.columns


data = data[['year', 'school', 'seed', 'conference', 'conf_wins', 'conf_losses',
       'conf_wins_pct', 'conf_rank', 'division', 'reg_wins', 'reg_losses', 'reg_wins_pct',
       'bid', 'first_game_at_home', 'tourney_wins', 'tourney_losses',
       'tourney_finish', 'total_wins', 'total_losses', 'total_wins_pct'
       ]]

data.head()





data.to_csv('womens-march-madness-clean.csv', index=False)





clean = pd.read_csv("womens-march-madness-clean.csv")

clean.head()


clean.shape



