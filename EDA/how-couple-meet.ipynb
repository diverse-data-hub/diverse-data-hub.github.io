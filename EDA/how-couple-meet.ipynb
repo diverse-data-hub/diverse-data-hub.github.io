{
 "cells": [
  {
   "cell_type": "code",
   "execution_count": null,
   "id": "640a9d32-8c4d-49ea-acd9-7db4f018ff39",
   "metadata": {},
   "outputs": [],
   "source": []
  },
  {
   "cell_type": "code",
   "execution_count": 1,
   "id": "0973f90b-e134-4ba3-92e7-9be3d720d2bb",
   "metadata": {},
   "outputs": [],
   "source": [
    "import pandas as pd\n",
    "import matplotlib.pyplot as plt\n",
    "import seaborn as sns\n",
    "df = pd.read_csv('../data/HCMST_2017-2022.csv')  "
   ]
  },
  {
   "cell_type": "code",
   "execution_count": 3,
   "id": "978b233b-69c3-40ab-b5f7-9a7187bc5771",
   "metadata": {},
   "outputs": [
    {
     "data": {
      "text/plain": [
       "3510"
      ]
     },
     "execution_count": 3,
     "metadata": {},
     "output_type": "execute_result"
    }
   ],
   "source": [
    "len(df)"
   ]
  },
  {
   "cell_type": "code",
   "execution_count": null,
   "id": "4cb872a3-a32b-40d2-8526-5c83efc87103",
   "metadata": {},
   "outputs": [],
   "source": []
  }
 ],
 "metadata": {
  "kernelspec": {
   "display_name": "mds_capstone_v1",
   "language": "python",
   "name": "mds_capstone_v1"
  },
  "language_info": {
   "codemirror_mode": {
    "name": "ipython",
    "version": 3
   },
   "file_extension": ".py",
   "mimetype": "text/x-python",
   "name": "python",
   "nbconvert_exporter": "python",
   "pygments_lexer": "ipython3",
   "version": "3.13.3"
  }
 },
 "nbformat": 4,
 "nbformat_minor": 5
}
