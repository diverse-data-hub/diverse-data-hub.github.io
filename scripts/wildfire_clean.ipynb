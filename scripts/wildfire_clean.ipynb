{
 "cells": [
  {
   "cell_type": "markdown",
   "id": "80d1b18e-5b19-4fb7-b989-4afa7599471a",
   "metadata": {},
   "source": [
    "# Wildfire Dataset Cleaning Steps"
   ]
  },
  {
   "cell_type": "code",
   "execution_count": 2,
   "id": "64f97967-8df6-49df-890f-e4fc6c49d726",
   "metadata": {},
   "outputs": [
    {
     "data": {
      "text/html": [
       "<div>\n",
       "<style scoped>\n",
       "    .dataframe tbody tr th:only-of-type {\n",
       "        vertical-align: middle;\n",
       "    }\n",
       "\n",
       "    .dataframe tbody tr th {\n",
       "        vertical-align: top;\n",
       "    }\n",
       "\n",
       "    .dataframe thead th {\n",
       "        text-align: right;\n",
       "    }\n",
       "</style>\n",
       "<table border=\"1\" class=\"dataframe\">\n",
       "  <thead>\n",
       "    <tr style=\"text-align: right;\">\n",
       "      <th></th>\n",
       "      <th>YEAR</th>\n",
       "      <th>FIRE_NUMBER</th>\n",
       "      <th>FIRE_NAME</th>\n",
       "      <th>CURRENT_SIZE</th>\n",
       "      <th>SIZE_CLASS</th>\n",
       "      <th>LATITUDE</th>\n",
       "      <th>LONGITUDE</th>\n",
       "      <th>FIRE_ORIGIN</th>\n",
       "      <th>GENERAL_CAUSE</th>\n",
       "      <th>INDUSTRY_IDENTIFIER</th>\n",
       "      <th>...</th>\n",
       "      <th>DISTANCE_FROM_WATER_SOURCE</th>\n",
       "      <th>FIRST_BUCKET_DROP_DATE</th>\n",
       "      <th>FIRST_BH_DATE</th>\n",
       "      <th>FIRST_BH_SIZE</th>\n",
       "      <th>FIRST_UC_DATE</th>\n",
       "      <th>FIRST_UC_SIZE</th>\n",
       "      <th>FIRST_TO_DATE</th>\n",
       "      <th>FIRST_TO_SIZE</th>\n",
       "      <th>FIRST_EX_DATE</th>\n",
       "      <th>FIRST_EX_SIZE_PERIMETER</th>\n",
       "    </tr>\n",
       "  </thead>\n",
       "  <tbody>\n",
       "    <tr>\n",
       "      <th>0</th>\n",
       "      <td>2006</td>\n",
       "      <td>PWF001</td>\n",
       "      <td>NaN</td>\n",
       "      <td>0.10</td>\n",
       "      <td>A</td>\n",
       "      <td>56.249956</td>\n",
       "      <td>-117.181960</td>\n",
       "      <td>Private Land</td>\n",
       "      <td>Resident</td>\n",
       "      <td>NaN</td>\n",
       "      <td>...</td>\n",
       "      <td>NaN</td>\n",
       "      <td>NaN</td>\n",
       "      <td>2006-04-02 22:00:00</td>\n",
       "      <td>0.01</td>\n",
       "      <td>2006-04-02 22:00:00</td>\n",
       "      <td>0.01</td>\n",
       "      <td>NaN</td>\n",
       "      <td>NaN</td>\n",
       "      <td>2006-04-03 10:20:00</td>\n",
       "      <td>0.10</td>\n",
       "    </tr>\n",
       "    <tr>\n",
       "      <th>1</th>\n",
       "      <td>2006</td>\n",
       "      <td>EWF002</td>\n",
       "      <td>NaN</td>\n",
       "      <td>0.20</td>\n",
       "      <td>B</td>\n",
       "      <td>53.606367</td>\n",
       "      <td>-115.915733</td>\n",
       "      <td>Provincial Land</td>\n",
       "      <td>Incendiary</td>\n",
       "      <td>NaN</td>\n",
       "      <td>...</td>\n",
       "      <td>NaN</td>\n",
       "      <td>NaN</td>\n",
       "      <td>2006-04-03 13:20:00</td>\n",
       "      <td>0.20</td>\n",
       "      <td>2006-04-03 13:20:00</td>\n",
       "      <td>0.20</td>\n",
       "      <td>NaN</td>\n",
       "      <td>NaN</td>\n",
       "      <td>2006-04-03 14:00:00</td>\n",
       "      <td>0.20</td>\n",
       "    </tr>\n",
       "    <tr>\n",
       "      <th>2</th>\n",
       "      <td>2006</td>\n",
       "      <td>EWF001</td>\n",
       "      <td>NaN</td>\n",
       "      <td>0.50</td>\n",
       "      <td>B</td>\n",
       "      <td>53.610933</td>\n",
       "      <td>-115.594267</td>\n",
       "      <td>Provincial Land</td>\n",
       "      <td>Incendiary</td>\n",
       "      <td>NaN</td>\n",
       "      <td>...</td>\n",
       "      <td>NaN</td>\n",
       "      <td>NaN</td>\n",
       "      <td>2006-04-03 13:23:00</td>\n",
       "      <td>0.50</td>\n",
       "      <td>2006-04-03 13:23:00</td>\n",
       "      <td>0.50</td>\n",
       "      <td>NaN</td>\n",
       "      <td>NaN</td>\n",
       "      <td>2006-04-03 15:00:00</td>\n",
       "      <td>0.50</td>\n",
       "    </tr>\n",
       "    <tr>\n",
       "      <th>3</th>\n",
       "      <td>2006</td>\n",
       "      <td>EWF003</td>\n",
       "      <td>NaN</td>\n",
       "      <td>0.01</td>\n",
       "      <td>A</td>\n",
       "      <td>53.608867</td>\n",
       "      <td>-115.609467</td>\n",
       "      <td>Provincial Land</td>\n",
       "      <td>Incendiary</td>\n",
       "      <td>NaN</td>\n",
       "      <td>...</td>\n",
       "      <td>NaN</td>\n",
       "      <td>NaN</td>\n",
       "      <td>2006-04-03 14:08:00</td>\n",
       "      <td>0.01</td>\n",
       "      <td>2006-04-03 14:08:00</td>\n",
       "      <td>0.01</td>\n",
       "      <td>NaN</td>\n",
       "      <td>NaN</td>\n",
       "      <td>2006-04-03 15:05:00</td>\n",
       "      <td>0.01</td>\n",
       "    </tr>\n",
       "    <tr>\n",
       "      <th>4</th>\n",
       "      <td>2006</td>\n",
       "      <td>PWF002</td>\n",
       "      <td>NaN</td>\n",
       "      <td>0.10</td>\n",
       "      <td>A</td>\n",
       "      <td>56.249956</td>\n",
       "      <td>-117.050249</td>\n",
       "      <td>Provincial Land</td>\n",
       "      <td>Other Industry</td>\n",
       "      <td>Waste Disposal</td>\n",
       "      <td>...</td>\n",
       "      <td>NaN</td>\n",
       "      <td>NaN</td>\n",
       "      <td>2006-04-03 19:57:00</td>\n",
       "      <td>0.10</td>\n",
       "      <td>2006-04-03 20:19:00</td>\n",
       "      <td>0.10</td>\n",
       "      <td>2006-04-03 20:20:00</td>\n",
       "      <td>0.1</td>\n",
       "      <td>2006-04-05 10:18:00</td>\n",
       "      <td>0.10</td>\n",
       "    </tr>\n",
       "  </tbody>\n",
       "</table>\n",
       "<p>5 rows × 50 columns</p>\n",
       "</div>"
      ],
      "text/plain": [
       "   YEAR FIRE_NUMBER FIRE_NAME  CURRENT_SIZE SIZE_CLASS   LATITUDE   LONGITUDE  \\\n",
       "0  2006      PWF001       NaN          0.10          A  56.249956 -117.181960   \n",
       "1  2006      EWF002       NaN          0.20          B  53.606367 -115.915733   \n",
       "2  2006      EWF001       NaN          0.50          B  53.610933 -115.594267   \n",
       "3  2006      EWF003       NaN          0.01          A  53.608867 -115.609467   \n",
       "4  2006      PWF002       NaN          0.10          A  56.249956 -117.050249   \n",
       "\n",
       "       FIRE_ORIGIN   GENERAL_CAUSE INDUSTRY_IDENTIFIER  ...  \\\n",
       "0     Private Land        Resident                 NaN  ...   \n",
       "1  Provincial Land      Incendiary                 NaN  ...   \n",
       "2  Provincial Land      Incendiary                 NaN  ...   \n",
       "3  Provincial Land      Incendiary                 NaN  ...   \n",
       "4  Provincial Land  Other Industry      Waste Disposal  ...   \n",
       "\n",
       "  DISTANCE_FROM_WATER_SOURCE FIRST_BUCKET_DROP_DATE        FIRST_BH_DATE  \\\n",
       "0                        NaN                    NaN  2006-04-02 22:00:00   \n",
       "1                        NaN                    NaN  2006-04-03 13:20:00   \n",
       "2                        NaN                    NaN  2006-04-03 13:23:00   \n",
       "3                        NaN                    NaN  2006-04-03 14:08:00   \n",
       "4                        NaN                    NaN  2006-04-03 19:57:00   \n",
       "\n",
       "  FIRST_BH_SIZE        FIRST_UC_DATE FIRST_UC_SIZE        FIRST_TO_DATE  \\\n",
       "0          0.01  2006-04-02 22:00:00          0.01                  NaN   \n",
       "1          0.20  2006-04-03 13:20:00          0.20                  NaN   \n",
       "2          0.50  2006-04-03 13:23:00          0.50                  NaN   \n",
       "3          0.01  2006-04-03 14:08:00          0.01                  NaN   \n",
       "4          0.10  2006-04-03 20:19:00          0.10  2006-04-03 20:20:00   \n",
       "\n",
       "   FIRST_TO_SIZE        FIRST_EX_DATE FIRST_EX_SIZE_PERIMETER  \n",
       "0            NaN  2006-04-03 10:20:00                    0.10  \n",
       "1            NaN  2006-04-03 14:00:00                    0.20  \n",
       "2            NaN  2006-04-03 15:00:00                    0.50  \n",
       "3            NaN  2006-04-03 15:05:00                    0.01  \n",
       "4            0.1  2006-04-05 10:18:00                    0.10  \n",
       "\n",
       "[5 rows x 50 columns]"
      ]
     },
     "execution_count": 2,
     "metadata": {},
     "output_type": "execute_result"
    }
   ],
   "source": [
    "import pandas as pd\n",
    "\n",
    "wildfire = pd.read_csv(\"../data/raw/wildfire/wildfire.csv\")\n",
    "wildfire.head()\n"
   ]
  },
  {
   "cell_type": "markdown",
   "id": "9e7028c4-cccf-4b5e-9bd9-906db10072c0",
   "metadata": {},
   "source": [
    "# Handle missing values"
   ]
  },
  {
   "cell_type": "code",
   "execution_count": 3,
   "id": "ecfc97e6-0b32-4b07-a678-f08a4e4e28cd",
   "metadata": {},
   "outputs": [
    {
     "name": "stdout",
     "output_type": "stream",
     "text": [
      "Number of rows: 26551\n"
     ]
    }
   ],
   "source": [
    "## First I checked how many rows do we have : \n",
    "num_rows = wildfire.shape[0]\n",
    "print(\"Number of rows:\", num_rows)"
   ]
  },
  {
   "cell_type": "code",
   "execution_count": 4,
   "id": "314ca171-d981-41cd-b940-344c4b203b38",
   "metadata": {},
   "outputs": [
    {
     "data": {
      "text/plain": [
       "YEAR                                0\n",
       "FIRE_NUMBER                         0\n",
       "FIRE_NAME                       25756\n",
       "CURRENT_SIZE                        0\n",
       "SIZE_CLASS                          0\n",
       "LATITUDE                            0\n",
       "LONGITUDE                           0\n",
       "FIRE_ORIGIN                        12\n",
       "GENERAL_CAUSE                       0\n",
       "INDUSTRY_IDENTIFIER             26071\n",
       "RESPONSIBLE_GROUP               17029\n",
       "ACTIVITY_CLASS                  10416\n",
       "TRUE_CAUSE                      12529\n",
       "FIRE_START_DATE                   689\n",
       "DETECTION_AGENT_TYPE                0\n",
       "DETECTION_AGENT                     0\n",
       "DISCOVERED_DATE                  5409\n",
       "DISCOVERED_SIZE                 26402\n",
       "REPORTED_DATE                       0\n",
       "DISPATCHED_RESOURCE                12\n",
       "DISPATCH_DATE                      12\n",
       "START_FOR_FIRE_DATE                17\n",
       "ASSESSMENT_RESOURCE                 0\n",
       "ASSESSMENT_DATETIME                 0\n",
       "ASSESSMENT_HECTARES                 0\n",
       "FIRE_SPREAD_RATE                 2806\n",
       "FIRE_TYPE                        2617\n",
       "FIRE_POSITION_ON_SLOPE           2863\n",
       "WEATHER_CONDITIONS_OVER_FIRE     2870\n",
       "TEMPERATURE                      2872\n",
       "RELATIVE_HUMIDITY                2878\n",
       "WIND_DIRECTION                   2880\n",
       "WIND_SPEED                       2880\n",
       "FUEL_TYPE                        7559\n",
       "INITIAL_ACTION_BY                  17\n",
       "IA_ARRIVAL_AT_FIRE_DATE          7703\n",
       "IA_ACCESS                       14858\n",
       "FIRE_FIGHTING_START_DATE         7572\n",
       "FIRE_FIGHTING_START_SIZE         7572\n",
       "BUCKETING_ON_FIRE                7770\n",
       "DISTANCE_FROM_WATER_SOURCE      18958\n",
       "FIRST_BUCKET_DROP_DATE          18957\n",
       "FIRST_BH_DATE                       0\n",
       "FIRST_BH_SIZE                       0\n",
       "FIRST_UC_DATE                       0\n",
       "FIRST_UC_SIZE                       0\n",
       "FIRST_TO_DATE                   23809\n",
       "FIRST_TO_SIZE                   23809\n",
       "FIRST_EX_DATE                       6\n",
       "FIRST_EX_SIZE_PERIMETER             6\n",
       "dtype: int64"
      ]
     },
     "execution_count": 4,
     "metadata": {},
     "output_type": "execute_result"
    }
   ],
   "source": [
    "wildfire.isna().sum()"
   ]
  },
  {
   "cell_type": "markdown",
   "id": "d65a777b-6667-4bad-8cfa-240502620a31",
   "metadata": {},
   "source": [
    "## Drop uninformative or very sparse columns\n",
    "These columns have more than 50% missing values and we can remove them. "
   ]
  },
  {
   "cell_type": "code",
   "execution_count": 5,
   "id": "e5671aac-1fee-4c33-a37c-13a7bbc33845",
   "metadata": {},
   "outputs": [],
   "source": [
    "## These columns are very sparse\n",
    "# FIRE_NAME                       25756\n",
    "# INDUSTRY_IDENTIFIER             26071\n",
    "# DISCOVERED_SIZE                 26402\n",
    "# DISTANCE_FROM_WATER_SOURCE      18958\n",
    "# FIRST_BUCKET_DROP_DATE          18957\n",
    "# FIRST_TO_DATE                   23809\n",
    "# FIRST_TO_SIZE                   23809\n",
    "\n",
    "\n",
    "\n",
    "wildfire = wildfire.drop(columns=[\n",
    "    \"FIRE_NAME\", \"INDUSTRY_IDENTIFIER\", \"DISCOVERED_SIZE\", \n",
    "    \"DISTANCE_FROM_WATER_SOURCE\", \"FIRST_BUCKET_DROP_DATE\", \"FIRST_TO_DATE\", \"FIRST_TO_SIZE\"\n",
    "], errors=\"ignore\")\n"
   ]
  },
  {
   "cell_type": "markdown",
   "id": "25b0d06f-8af2-4fde-9aef-f38a2888ad5f",
   "metadata": {},
   "source": [
    "## Handle moderate missing values"
   ]
  },
  {
   "cell_type": "markdown",
   "id": "8579ad94-3f5d-4d87-9965-14c13ee803e5",
   "metadata": {},
   "source": [
    "These are useful variables but have some missing data. We can fill with \"unknown\", 0, or mean."
   ]
  },
  {
   "cell_type": "code",
   "execution_count": 6,
   "id": "1edf730e-a8a9-4057-a816-3d7d5224a538",
   "metadata": {},
   "outputs": [],
   "source": [
    "# few missing\n",
    "wildfire[\"DISPATCHED_RESOURCE\"] = wildfire[\"DISPATCHED_RESOURCE\"].fillna(\"Unknown\")\n",
    "wildfire[\"DISPATCH_DATE\"] = pd.to_datetime(wildfire[\"DISPATCH_DATE\"], errors=\"coerce\") # I converted this column to date, and If a value can't be converted to a date (e.g., it's missing or malformed), it will be replaced with NaT\n",
    "wildfire[\"START_FOR_FIRE_DATE\"] = pd.to_datetime(wildfire[\"START_FOR_FIRE_DATE\"], errors=\"coerce\")\n",
    "wildfire[\"INITIAL_ACTION_BY\"] = wildfire[\"INITIAL_ACTION_BY\"].fillna(\"Unknown\")\n",
    "wildfire[\"FIRST_EX_DATE\"] = pd.to_datetime(wildfire[\"FIRST_EX_DATE\"], errors=\"coerce\")\n",
    "wildfire[\"FIRST_EX_SIZE_PERIMETER\"] = wildfire[\"FIRST_EX_SIZE_PERIMETER\"].fillna(-1) # missing or unknown numeric data\n",
    "\n",
    "# Moderate missing\n",
    "wildfire[\"FIRE_START_DATE\"] = pd.to_datetime(wildfire[\"FIRE_START_DATE\"], errors=\"coerce\")\n",
    "wildfire[\"DISCOVERED_DATE\"] = pd.to_datetime(wildfire[\"DISCOVERED_DATE\"], errors=\"coerce\")\n",
    "wildfire[\"FIRE_SPREAD_RATE\"] = wildfire[\"FIRE_SPREAD_RATE\"].fillna(wildfire[\"FIRE_SPREAD_RATE\"].mean())  ## mean value\n",
    "wildfire[\"FIRE_POSITION_ON_SLOPE\"] = wildfire[\"FIRE_POSITION_ON_SLOPE\"].fillna(\"Unknown\")\n",
    "wildfire[\"WEATHER_CONDITIONS_OVER_FIRE\"] = wildfire[\"WEATHER_CONDITIONS_OVER_FIRE\"].fillna(\"Unknown\")\n",
    "wildfire[\"WIND_DIRECTION\"] = wildfire[\"WIND_DIRECTION\"].fillna(\"Unknown\")\n",
    "wildfire[\"FUEL_TYPE\"] = wildfire[\"FUEL_TYPE\"].fillna(\"Unknown\")\n",
    "wildfire[\"TRUE_CAUSE\"] = wildfire[\"TRUE_CAUSE\"].fillna(\"Unknown\") \n",
    "wildfire[\"FIRE_TYPE\"] = wildfire[\"FIRE_TYPE\"].fillna(\"Unknown\") \n",
    "\n",
    "# Higher missing \n",
    "wildfire[\"RESPONSIBLE_GROUP\"] = wildfire[\"RESPONSIBLE_GROUP\"].fillna(\"Unknown\")\n",
    "wildfire[\"ACTIVITY_CLASS\"] = wildfire[\"ACTIVITY_CLASS\"].fillna(\"Unknown\")\n",
    "wildfire[\"IA_ARRIVAL_AT_FIRE_DATE\"] = pd.to_datetime(wildfire[\"IA_ARRIVAL_AT_FIRE_DATE\"], errors=\"coerce\")\n",
    "wildfire[\"IA_ACCESS\"] = wildfire[\"IA_ACCESS\"].fillna(\"Unknown\")\n",
    "wildfire[\"FIRE_FIGHTING_START_DATE\"] = pd.to_datetime(wildfire[\"FIRE_FIGHTING_START_DATE\"], errors=\"coerce\")\n",
    "wildfire[\"FIRE_FIGHTING_START_SIZE\"] = wildfire[\"FIRE_FIGHTING_START_SIZE\"].fillna(wildfire[\"FIRE_FIGHTING_START_SIZE\"].median()) ## median value\n",
    "wildfire[\"BUCKETING_ON_FIRE\"] = wildfire[\"BUCKETING_ON_FIRE\"].fillna(\"Unknown\")\n",
    "\n",
    "\n"
   ]
  },
  {
   "cell_type": "code",
   "execution_count": 7,
   "id": "9c34ff10-7df1-4167-a4e7-add161903932",
   "metadata": {},
   "outputs": [
    {
     "data": {
      "text/plain": [
       "YEAR                               0\n",
       "FIRE_NUMBER                        0\n",
       "CURRENT_SIZE                       0\n",
       "SIZE_CLASS                         0\n",
       "LATITUDE                           0\n",
       "LONGITUDE                          0\n",
       "FIRE_ORIGIN                       12\n",
       "GENERAL_CAUSE                      0\n",
       "RESPONSIBLE_GROUP                  0\n",
       "ACTIVITY_CLASS                     0\n",
       "TRUE_CAUSE                         0\n",
       "FIRE_START_DATE                  693\n",
       "DETECTION_AGENT_TYPE               0\n",
       "DETECTION_AGENT                    0\n",
       "DISCOVERED_DATE                 5409\n",
       "REPORTED_DATE                      0\n",
       "DISPATCHED_RESOURCE                0\n",
       "DISPATCH_DATE                     12\n",
       "START_FOR_FIRE_DATE               17\n",
       "ASSESSMENT_RESOURCE                0\n",
       "ASSESSMENT_DATETIME                0\n",
       "ASSESSMENT_HECTARES                0\n",
       "FIRE_SPREAD_RATE                   0\n",
       "FIRE_TYPE                          0\n",
       "FIRE_POSITION_ON_SLOPE             0\n",
       "WEATHER_CONDITIONS_OVER_FIRE       0\n",
       "TEMPERATURE                     2872\n",
       "RELATIVE_HUMIDITY               2878\n",
       "WIND_DIRECTION                     0\n",
       "WIND_SPEED                      2880\n",
       "FUEL_TYPE                          0\n",
       "INITIAL_ACTION_BY                  0\n",
       "IA_ARRIVAL_AT_FIRE_DATE         7703\n",
       "IA_ACCESS                          0\n",
       "FIRE_FIGHTING_START_DATE        7572\n",
       "FIRE_FIGHTING_START_SIZE           0\n",
       "BUCKETING_ON_FIRE                  0\n",
       "FIRST_BH_DATE                      0\n",
       "FIRST_BH_SIZE                      0\n",
       "FIRST_UC_DATE                      0\n",
       "FIRST_UC_SIZE                      0\n",
       "FIRST_EX_DATE                      6\n",
       "FIRST_EX_SIZE_PERIMETER            0\n",
       "dtype: int64"
      ]
     },
     "execution_count": 7,
     "metadata": {},
     "output_type": "execute_result"
    }
   ],
   "source": [
    "## Double check everything one more time  --> alll of the date columns now have NaT \n",
    "wildfire.isna().sum()\n",
    "## Please let me know about the other columns, like humidity or temperature and wind_s, what should we do "
   ]
  },
  {
   "cell_type": "markdown",
   "id": "7f7b7384-959a-496d-b56f-b4e53aac4ef6",
   "metadata": {},
   "source": [
    "# Fix the Data types "
   ]
  },
  {
   "cell_type": "code",
   "execution_count": 10,
   "id": "07ab128f-dd7b-40ef-a1af-b40a3e96f549",
   "metadata": {},
   "outputs": [
    {
     "name": "stdout",
     "output_type": "stream",
     "text": [
      "YEAR                                     int64\n",
      "FIRE_NUMBER                             object\n",
      "CURRENT_SIZE                           float64\n",
      "SIZE_CLASS                              object\n",
      "LATITUDE                               float64\n",
      "LONGITUDE                              float64\n",
      "FIRE_ORIGIN                             object\n",
      "GENERAL_CAUSE                           object\n",
      "RESPONSIBLE_GROUP                       object\n",
      "ACTIVITY_CLASS                          object\n",
      "TRUE_CAUSE                              object\n",
      "FIRE_START_DATE                 datetime64[ns]\n",
      "DETECTION_AGENT_TYPE                    object\n",
      "DETECTION_AGENT                         object\n",
      "DISCOVERED_DATE                 datetime64[ns]\n",
      "REPORTED_DATE                   datetime64[ns]\n",
      "DISPATCHED_RESOURCE                     object\n",
      "DISPATCH_DATE                   datetime64[ns]\n",
      "START_FOR_FIRE_DATE             datetime64[ns]\n",
      "ASSESSMENT_RESOURCE                     object\n",
      "ASSESSMENT_DATETIME             datetime64[ns]\n",
      "ASSESSMENT_HECTARES                    float64\n",
      "FIRE_SPREAD_RATE                       float64\n",
      "FIRE_TYPE                               object\n",
      "FIRE_POSITION_ON_SLOPE                  object\n",
      "WEATHER_CONDITIONS_OVER_FIRE            object\n",
      "TEMPERATURE                            float64\n",
      "RELATIVE_HUMIDITY                      float64\n",
      "WIND_DIRECTION                          object\n",
      "WIND_SPEED                             float64\n",
      "FUEL_TYPE                               object\n",
      "INITIAL_ACTION_BY                       object\n",
      "IA_ARRIVAL_AT_FIRE_DATE         datetime64[ns]\n",
      "IA_ACCESS                               object\n",
      "FIRE_FIGHTING_START_DATE        datetime64[ns]\n",
      "FIRE_FIGHTING_START_SIZE               float64\n",
      "BUCKETING_ON_FIRE                       object\n",
      "FIRST_BH_DATE                   datetime64[ns]\n",
      "FIRST_BH_SIZE                          float64\n",
      "FIRST_UC_DATE                   datetime64[ns]\n",
      "FIRST_UC_SIZE                          float64\n",
      "FIRST_EX_DATE                   datetime64[ns]\n",
      "FIRST_EX_SIZE_PERIMETER                float64\n",
      "dtype: object\n"
     ]
    }
   ],
   "source": [
    "## First I checked the data types\n",
    "print(wildfire.dtypes)"
   ]
  },
  {
   "cell_type": "markdown",
   "id": "606e0299-28dd-4df6-bcb2-d92df855e46b",
   "metadata": {},
   "source": [
    "##  Date/Time"
   ]
  },
  {
   "cell_type": "code",
   "execution_count": 11,
   "id": "c1a31522-0e56-4210-9aa1-2f2a816aa774",
   "metadata": {},
   "outputs": [],
   "source": [
    "date_cols = [\n",
    "    \"FIRE_START_DATE\", \"DISCOVERED_DATE\", \"REPORTED_DATE\", \"DISPATCH_DATE\",\n",
    "    \"START_FOR_FIRE_DATE\", \"IA_ARRIVAL_AT_FIRE_DATE\", \"FIRE_FIGHTING_START_DATE\", \"FIRST_BH_DATE\", \"FIRST_UC_DATE\",\n",
    "    \"FIRST_EX_DATE\", \"ASSESSMENT_DATETIME\"\n",
    "]\n",
    "\n",
    "for col in date_cols:\n",
    "    wildfire[col] = pd.to_datetime(wildfire[col], errors=\"coerce\")\n"
   ]
  },
  {
   "cell_type": "markdown",
   "id": "d76a3617-02b5-4307-a663-ce8c70410ff3",
   "metadata": {},
   "source": [
    " ## Format all float columns to 2 decimal places"
   ]
  },
  {
   "cell_type": "code",
   "execution_count": 12,
   "id": "99d54412-ff11-421b-a2f6-ccea796d7262",
   "metadata": {},
   "outputs": [],
   "source": [
    "float_cols = wildfire.select_dtypes(include=[\"float64\"]).columns\n",
    "wildfire[float_cols] = wildfire[float_cols].round(2)"
   ]
  },
  {
   "cell_type": "markdown",
   "id": "c428198f-0555-4cba-9723-39205f9eb4dc",
   "metadata": {},
   "source": [
    "# Column Names:"
   ]
  },
  {
   "cell_type": "code",
   "execution_count": 13,
   "id": "9b659cf1-9045-420f-9feb-2bcaa779933a",
   "metadata": {},
   "outputs": [
    {
     "data": {
      "text/plain": [
       "['YEAR',\n",
       " 'FIRE_NUMBER',\n",
       " 'CURRENT_SIZE',\n",
       " 'SIZE_CLASS',\n",
       " 'LATITUDE',\n",
       " 'LONGITUDE',\n",
       " 'FIRE_ORIGIN',\n",
       " 'GENERAL_CAUSE',\n",
       " 'RESPONSIBLE_GROUP',\n",
       " 'ACTIVITY_CLASS',\n",
       " 'TRUE_CAUSE',\n",
       " 'FIRE_START_DATE',\n",
       " 'DETECTION_AGENT_TYPE',\n",
       " 'DETECTION_AGENT',\n",
       " 'DISCOVERED_DATE',\n",
       " 'REPORTED_DATE',\n",
       " 'DISPATCHED_RESOURCE',\n",
       " 'DISPATCH_DATE',\n",
       " 'START_FOR_FIRE_DATE',\n",
       " 'ASSESSMENT_RESOURCE',\n",
       " 'ASSESSMENT_DATETIME',\n",
       " 'ASSESSMENT_HECTARES',\n",
       " 'FIRE_SPREAD_RATE',\n",
       " 'FIRE_TYPE',\n",
       " 'FIRE_POSITION_ON_SLOPE',\n",
       " 'WEATHER_CONDITIONS_OVER_FIRE',\n",
       " 'TEMPERATURE',\n",
       " 'RELATIVE_HUMIDITY',\n",
       " 'WIND_DIRECTION',\n",
       " 'WIND_SPEED',\n",
       " 'FUEL_TYPE',\n",
       " 'INITIAL_ACTION_BY',\n",
       " 'IA_ARRIVAL_AT_FIRE_DATE',\n",
       " 'IA_ACCESS',\n",
       " 'FIRE_FIGHTING_START_DATE',\n",
       " 'FIRE_FIGHTING_START_SIZE',\n",
       " 'BUCKETING_ON_FIRE',\n",
       " 'FIRST_BH_DATE',\n",
       " 'FIRST_BH_SIZE',\n",
       " 'FIRST_UC_DATE',\n",
       " 'FIRST_UC_SIZE',\n",
       " 'FIRST_EX_DATE',\n",
       " 'FIRST_EX_SIZE_PERIMETER']"
      ]
     },
     "execution_count": 13,
     "metadata": {},
     "output_type": "execute_result"
    }
   ],
   "source": [
    "wildfire.columns.tolist()"
   ]
  },
  {
   "cell_type": "code",
   "execution_count": 14,
   "id": "adc563d1-2eeb-424d-9da7-aea12142a166",
   "metadata": {},
   "outputs": [],
   "source": [
    "wildfire.columns = wildfire.columns.str.lower()\n"
   ]
  },
  {
   "cell_type": "markdown",
   "id": "3c2dd6c1-63fa-4add-bd38-186286b3640e",
   "metadata": {},
   "source": [
    "# Export cleaned dataset"
   ]
  },
  {
   "cell_type": "code",
   "execution_count": 16,
   "id": "dc7885e9-9c05-4114-9b1b-b3334098c1f4",
   "metadata": {},
   "outputs": [],
   "source": [
    "wildfire.to_csv(\"../data/clean/wildfire_clean.csv\", index=False)"
   ]
  },
  {
   "cell_type": "markdown",
   "id": "9a6fad38-d62f-43c5-9df6-312a8ef4710d",
   "metadata": {},
   "source": [
    "##  Validate cleaned file"
   ]
  },
  {
   "cell_type": "code",
   "execution_count": 17,
   "id": "2db79355-94ca-4e79-8f34-b4b79c16af38",
   "metadata": {},
   "outputs": [
    {
     "ename": "FileNotFoundError",
     "evalue": "[Errno 2] No such file or directory: 'wildfire_clean.csv'",
     "output_type": "error",
     "traceback": [
      "\u001b[31m---------------------------------------------------------------------------\u001b[39m",
      "\u001b[31mFileNotFoundError\u001b[39m                         Traceback (most recent call last)",
      "\u001b[36mCell\u001b[39m\u001b[36m \u001b[39m\u001b[32mIn[17]\u001b[39m\u001b[32m, line 1\u001b[39m\n\u001b[32m----> \u001b[39m\u001b[32m1\u001b[39m clean = \u001b[43mpd\u001b[49m\u001b[43m.\u001b[49m\u001b[43mread_csv\u001b[49m\u001b[43m(\u001b[49m\u001b[33;43m\"\u001b[39;49m\u001b[33;43mwildfire_clean.csv\u001b[39;49m\u001b[33;43m\"\u001b[39;49m\u001b[43m)\u001b[49m\n\u001b[32m      2\u001b[39m clean.shape\n\u001b[32m      3\u001b[39m clean.head()\n",
      "\u001b[36mFile \u001b[39m\u001b[32m~\\miniforge3\\envs\\mds_capstone_v1\\Lib\\site-packages\\pandas\\io\\parsers\\readers.py:1026\u001b[39m, in \u001b[36mread_csv\u001b[39m\u001b[34m(filepath_or_buffer, sep, delimiter, header, names, index_col, usecols, dtype, engine, converters, true_values, false_values, skipinitialspace, skiprows, skipfooter, nrows, na_values, keep_default_na, na_filter, verbose, skip_blank_lines, parse_dates, infer_datetime_format, keep_date_col, date_parser, date_format, dayfirst, cache_dates, iterator, chunksize, compression, thousands, decimal, lineterminator, quotechar, quoting, doublequote, escapechar, comment, encoding, encoding_errors, dialect, on_bad_lines, delim_whitespace, low_memory, memory_map, float_precision, storage_options, dtype_backend)\u001b[39m\n\u001b[32m   1013\u001b[39m kwds_defaults = _refine_defaults_read(\n\u001b[32m   1014\u001b[39m     dialect,\n\u001b[32m   1015\u001b[39m     delimiter,\n\u001b[32m   (...)\u001b[39m\u001b[32m   1022\u001b[39m     dtype_backend=dtype_backend,\n\u001b[32m   1023\u001b[39m )\n\u001b[32m   1024\u001b[39m kwds.update(kwds_defaults)\n\u001b[32m-> \u001b[39m\u001b[32m1026\u001b[39m \u001b[38;5;28;01mreturn\u001b[39;00m \u001b[43m_read\u001b[49m\u001b[43m(\u001b[49m\u001b[43mfilepath_or_buffer\u001b[49m\u001b[43m,\u001b[49m\u001b[43m \u001b[49m\u001b[43mkwds\u001b[49m\u001b[43m)\u001b[49m\n",
      "\u001b[36mFile \u001b[39m\u001b[32m~\\miniforge3\\envs\\mds_capstone_v1\\Lib\\site-packages\\pandas\\io\\parsers\\readers.py:620\u001b[39m, in \u001b[36m_read\u001b[39m\u001b[34m(filepath_or_buffer, kwds)\u001b[39m\n\u001b[32m    617\u001b[39m _validate_names(kwds.get(\u001b[33m\"\u001b[39m\u001b[33mnames\u001b[39m\u001b[33m\"\u001b[39m, \u001b[38;5;28;01mNone\u001b[39;00m))\n\u001b[32m    619\u001b[39m \u001b[38;5;66;03m# Create the parser.\u001b[39;00m\n\u001b[32m--> \u001b[39m\u001b[32m620\u001b[39m parser = \u001b[43mTextFileReader\u001b[49m\u001b[43m(\u001b[49m\u001b[43mfilepath_or_buffer\u001b[49m\u001b[43m,\u001b[49m\u001b[43m \u001b[49m\u001b[43m*\u001b[49m\u001b[43m*\u001b[49m\u001b[43mkwds\u001b[49m\u001b[43m)\u001b[49m\n\u001b[32m    622\u001b[39m \u001b[38;5;28;01mif\u001b[39;00m chunksize \u001b[38;5;129;01mor\u001b[39;00m iterator:\n\u001b[32m    623\u001b[39m     \u001b[38;5;28;01mreturn\u001b[39;00m parser\n",
      "\u001b[36mFile \u001b[39m\u001b[32m~\\miniforge3\\envs\\mds_capstone_v1\\Lib\\site-packages\\pandas\\io\\parsers\\readers.py:1620\u001b[39m, in \u001b[36mTextFileReader.__init__\u001b[39m\u001b[34m(self, f, engine, **kwds)\u001b[39m\n\u001b[32m   1617\u001b[39m     \u001b[38;5;28mself\u001b[39m.options[\u001b[33m\"\u001b[39m\u001b[33mhas_index_names\u001b[39m\u001b[33m\"\u001b[39m] = kwds[\u001b[33m\"\u001b[39m\u001b[33mhas_index_names\u001b[39m\u001b[33m\"\u001b[39m]\n\u001b[32m   1619\u001b[39m \u001b[38;5;28mself\u001b[39m.handles: IOHandles | \u001b[38;5;28;01mNone\u001b[39;00m = \u001b[38;5;28;01mNone\u001b[39;00m\n\u001b[32m-> \u001b[39m\u001b[32m1620\u001b[39m \u001b[38;5;28mself\u001b[39m._engine = \u001b[38;5;28;43mself\u001b[39;49m\u001b[43m.\u001b[49m\u001b[43m_make_engine\u001b[49m\u001b[43m(\u001b[49m\u001b[43mf\u001b[49m\u001b[43m,\u001b[49m\u001b[43m \u001b[49m\u001b[38;5;28;43mself\u001b[39;49m\u001b[43m.\u001b[49m\u001b[43mengine\u001b[49m\u001b[43m)\u001b[49m\n",
      "\u001b[36mFile \u001b[39m\u001b[32m~\\miniforge3\\envs\\mds_capstone_v1\\Lib\\site-packages\\pandas\\io\\parsers\\readers.py:1880\u001b[39m, in \u001b[36mTextFileReader._make_engine\u001b[39m\u001b[34m(self, f, engine)\u001b[39m\n\u001b[32m   1878\u001b[39m     \u001b[38;5;28;01mif\u001b[39;00m \u001b[33m\"\u001b[39m\u001b[33mb\u001b[39m\u001b[33m\"\u001b[39m \u001b[38;5;129;01mnot\u001b[39;00m \u001b[38;5;129;01min\u001b[39;00m mode:\n\u001b[32m   1879\u001b[39m         mode += \u001b[33m\"\u001b[39m\u001b[33mb\u001b[39m\u001b[33m\"\u001b[39m\n\u001b[32m-> \u001b[39m\u001b[32m1880\u001b[39m \u001b[38;5;28mself\u001b[39m.handles = \u001b[43mget_handle\u001b[49m\u001b[43m(\u001b[49m\n\u001b[32m   1881\u001b[39m \u001b[43m    \u001b[49m\u001b[43mf\u001b[49m\u001b[43m,\u001b[49m\n\u001b[32m   1882\u001b[39m \u001b[43m    \u001b[49m\u001b[43mmode\u001b[49m\u001b[43m,\u001b[49m\n\u001b[32m   1883\u001b[39m \u001b[43m    \u001b[49m\u001b[43mencoding\u001b[49m\u001b[43m=\u001b[49m\u001b[38;5;28;43mself\u001b[39;49m\u001b[43m.\u001b[49m\u001b[43moptions\u001b[49m\u001b[43m.\u001b[49m\u001b[43mget\u001b[49m\u001b[43m(\u001b[49m\u001b[33;43m\"\u001b[39;49m\u001b[33;43mencoding\u001b[39;49m\u001b[33;43m\"\u001b[39;49m\u001b[43m,\u001b[49m\u001b[43m \u001b[49m\u001b[38;5;28;43;01mNone\u001b[39;49;00m\u001b[43m)\u001b[49m\u001b[43m,\u001b[49m\n\u001b[32m   1884\u001b[39m \u001b[43m    \u001b[49m\u001b[43mcompression\u001b[49m\u001b[43m=\u001b[49m\u001b[38;5;28;43mself\u001b[39;49m\u001b[43m.\u001b[49m\u001b[43moptions\u001b[49m\u001b[43m.\u001b[49m\u001b[43mget\u001b[49m\u001b[43m(\u001b[49m\u001b[33;43m\"\u001b[39;49m\u001b[33;43mcompression\u001b[39;49m\u001b[33;43m\"\u001b[39;49m\u001b[43m,\u001b[49m\u001b[43m \u001b[49m\u001b[38;5;28;43;01mNone\u001b[39;49;00m\u001b[43m)\u001b[49m\u001b[43m,\u001b[49m\n\u001b[32m   1885\u001b[39m \u001b[43m    \u001b[49m\u001b[43mmemory_map\u001b[49m\u001b[43m=\u001b[49m\u001b[38;5;28;43mself\u001b[39;49m\u001b[43m.\u001b[49m\u001b[43moptions\u001b[49m\u001b[43m.\u001b[49m\u001b[43mget\u001b[49m\u001b[43m(\u001b[49m\u001b[33;43m\"\u001b[39;49m\u001b[33;43mmemory_map\u001b[39;49m\u001b[33;43m\"\u001b[39;49m\u001b[43m,\u001b[49m\u001b[43m \u001b[49m\u001b[38;5;28;43;01mFalse\u001b[39;49;00m\u001b[43m)\u001b[49m\u001b[43m,\u001b[49m\n\u001b[32m   1886\u001b[39m \u001b[43m    \u001b[49m\u001b[43mis_text\u001b[49m\u001b[43m=\u001b[49m\u001b[43mis_text\u001b[49m\u001b[43m,\u001b[49m\n\u001b[32m   1887\u001b[39m \u001b[43m    \u001b[49m\u001b[43merrors\u001b[49m\u001b[43m=\u001b[49m\u001b[38;5;28;43mself\u001b[39;49m\u001b[43m.\u001b[49m\u001b[43moptions\u001b[49m\u001b[43m.\u001b[49m\u001b[43mget\u001b[49m\u001b[43m(\u001b[49m\u001b[33;43m\"\u001b[39;49m\u001b[33;43mencoding_errors\u001b[39;49m\u001b[33;43m\"\u001b[39;49m\u001b[43m,\u001b[49m\u001b[43m \u001b[49m\u001b[33;43m\"\u001b[39;49m\u001b[33;43mstrict\u001b[39;49m\u001b[33;43m\"\u001b[39;49m\u001b[43m)\u001b[49m\u001b[43m,\u001b[49m\n\u001b[32m   1888\u001b[39m \u001b[43m    \u001b[49m\u001b[43mstorage_options\u001b[49m\u001b[43m=\u001b[49m\u001b[38;5;28;43mself\u001b[39;49m\u001b[43m.\u001b[49m\u001b[43moptions\u001b[49m\u001b[43m.\u001b[49m\u001b[43mget\u001b[49m\u001b[43m(\u001b[49m\u001b[33;43m\"\u001b[39;49m\u001b[33;43mstorage_options\u001b[39;49m\u001b[33;43m\"\u001b[39;49m\u001b[43m,\u001b[49m\u001b[43m \u001b[49m\u001b[38;5;28;43;01mNone\u001b[39;49;00m\u001b[43m)\u001b[49m\u001b[43m,\u001b[49m\n\u001b[32m   1889\u001b[39m \u001b[43m\u001b[49m\u001b[43m)\u001b[49m\n\u001b[32m   1890\u001b[39m \u001b[38;5;28;01massert\u001b[39;00m \u001b[38;5;28mself\u001b[39m.handles \u001b[38;5;129;01mis\u001b[39;00m \u001b[38;5;129;01mnot\u001b[39;00m \u001b[38;5;28;01mNone\u001b[39;00m\n\u001b[32m   1891\u001b[39m f = \u001b[38;5;28mself\u001b[39m.handles.handle\n",
      "\u001b[36mFile \u001b[39m\u001b[32m~\\miniforge3\\envs\\mds_capstone_v1\\Lib\\site-packages\\pandas\\io\\common.py:873\u001b[39m, in \u001b[36mget_handle\u001b[39m\u001b[34m(path_or_buf, mode, encoding, compression, memory_map, is_text, errors, storage_options)\u001b[39m\n\u001b[32m    868\u001b[39m \u001b[38;5;28;01melif\u001b[39;00m \u001b[38;5;28misinstance\u001b[39m(handle, \u001b[38;5;28mstr\u001b[39m):\n\u001b[32m    869\u001b[39m     \u001b[38;5;66;03m# Check whether the filename is to be opened in binary mode.\u001b[39;00m\n\u001b[32m    870\u001b[39m     \u001b[38;5;66;03m# Binary mode does not support 'encoding' and 'newline'.\u001b[39;00m\n\u001b[32m    871\u001b[39m     \u001b[38;5;28;01mif\u001b[39;00m ioargs.encoding \u001b[38;5;129;01mand\u001b[39;00m \u001b[33m\"\u001b[39m\u001b[33mb\u001b[39m\u001b[33m\"\u001b[39m \u001b[38;5;129;01mnot\u001b[39;00m \u001b[38;5;129;01min\u001b[39;00m ioargs.mode:\n\u001b[32m    872\u001b[39m         \u001b[38;5;66;03m# Encoding\u001b[39;00m\n\u001b[32m--> \u001b[39m\u001b[32m873\u001b[39m         handle = \u001b[38;5;28;43mopen\u001b[39;49m\u001b[43m(\u001b[49m\n\u001b[32m    874\u001b[39m \u001b[43m            \u001b[49m\u001b[43mhandle\u001b[49m\u001b[43m,\u001b[49m\n\u001b[32m    875\u001b[39m \u001b[43m            \u001b[49m\u001b[43mioargs\u001b[49m\u001b[43m.\u001b[49m\u001b[43mmode\u001b[49m\u001b[43m,\u001b[49m\n\u001b[32m    876\u001b[39m \u001b[43m            \u001b[49m\u001b[43mencoding\u001b[49m\u001b[43m=\u001b[49m\u001b[43mioargs\u001b[49m\u001b[43m.\u001b[49m\u001b[43mencoding\u001b[49m\u001b[43m,\u001b[49m\n\u001b[32m    877\u001b[39m \u001b[43m            \u001b[49m\u001b[43merrors\u001b[49m\u001b[43m=\u001b[49m\u001b[43merrors\u001b[49m\u001b[43m,\u001b[49m\n\u001b[32m    878\u001b[39m \u001b[43m            \u001b[49m\u001b[43mnewline\u001b[49m\u001b[43m=\u001b[49m\u001b[33;43m\"\u001b[39;49m\u001b[33;43m\"\u001b[39;49m\u001b[43m,\u001b[49m\n\u001b[32m    879\u001b[39m \u001b[43m        \u001b[49m\u001b[43m)\u001b[49m\n\u001b[32m    880\u001b[39m     \u001b[38;5;28;01melse\u001b[39;00m:\n\u001b[32m    881\u001b[39m         \u001b[38;5;66;03m# Binary mode\u001b[39;00m\n\u001b[32m    882\u001b[39m         handle = \u001b[38;5;28mopen\u001b[39m(handle, ioargs.mode)\n",
      "\u001b[31mFileNotFoundError\u001b[39m: [Errno 2] No such file or directory: 'wildfire_clean.csv'"
     ]
    }
   ],
   "source": [
    "clean = pd.read_csv(\"../data/clean/wildfire_clean.csv\")\n",
    "clean.shape\n",
    "clean.head()"
   ]
  },
  {
   "cell_type": "code",
   "execution_count": null,
   "id": "c8e2defa-a707-47d4-a487-4906b9a303ef",
   "metadata": {},
   "outputs": [],
   "source": []
  }
 ],
 "metadata": {
  "kernelspec": {
   "display_name": "mds_capstone_v1",
   "language": "python",
   "name": "mds_capstone_v1"
  },
  "language_info": {
   "codemirror_mode": {
    "name": "ipython",
    "version": 3
   },
   "file_extension": ".py",
   "mimetype": "text/x-python",
   "name": "python",
   "nbconvert_exporter": "python",
   "pygments_lexer": "ipython3",
   "version": "3.13.3"
  }
 },
 "nbformat": 4,
 "nbformat_minor": 5
}
